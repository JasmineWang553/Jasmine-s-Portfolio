{
 "cells": [
  {
   "cell_type": "code",
   "execution_count": 1,
   "metadata": {},
   "outputs": [],
   "source": [
    "import requests\n",
    "from bs4 import BeautifulSoup\n",
    "import re\n",
    "import pandas as pd\n",
    "import os"
   ]
  },
  {
   "cell_type": "markdown",
   "metadata": {},
   "source": [
    "# Requests"
   ]
  },
  {
   "cell_type": "code",
   "execution_count": 3,
   "metadata": {},
   "outputs": [],
   "source": [
    "def get_req(term):\n",
    "    params = {\n",
    "        \"q\": term.replace(\" \", \"+\"),\n",
    "        \"hl\": \"en\",     # language\n",
    "        \"gl\": \"us\",     # country of the search, US -> USA\n",
    "        \"tbm\": \"shop\",   # google search shopping\n",
    "        \"pagesize\": 10,\n",
    "        \"tbs\": \"p_ord:rv,new:1\",\n",
    "    }\n",
    "\n",
    "    # https://docs.python-requests.org/en/master/user/quickstart/#custom-headers\n",
    "    headers = {\n",
    "        \"User-Agent\": \"Mozilla/5.0 (Windows NT 10.0; Win64; x64) AppleWebKit/537.36 (KHTML, like Gecko) Chrome/103.0.0.0 Safari/537.36\"\n",
    "    }\n",
    "\n",
    "    html = requests.get(\"https://www.google.com/search\", params=params, headers=headers, timeout=30)\n",
    "\n",
    "    print(f\"Request Status code: {html.status_code}\")\n",
    "    soup = BeautifulSoup(html.text, 'lxml')\n",
    "    return soup\n",
    "\n",
    "def get_brands(device):\n",
    "    soup = get_req(device)\n",
    "    if device[:5].lower() in [\"apple\", \"smart\"]:\n",
    "        return [\"Apple\"]\n",
    "    brands = list(filter(lambda x: x.text == \"Brand\", soup.select('.ELcVZ')))[0].parent.select('.lg3aE')[1:]\n",
    "    brands = list(map(lambda x: x.text, brands))\n",
    "    return brands\n",
    "\n",
    "def match(title, brands):\n",
    "    for b in brands:\n",
    "        if re.match(b.lower(), title.lower()):\n",
    "            return True\n",
    "    return False"
   ]
  },
  {
   "cell_type": "code",
   "execution_count": 17,
   "metadata": {},
   "outputs": [],
   "source": [
    "\n",
    "# a list of devices to feed in 'android phone', 'android tablet', 'apple phone', 'apple tablet', 'smart watch', 'smart tv', 'voice assistant'\n",
    "devices = pd.read_csv('devices.csv')[\"Devices\"].to_list()\n",
    "\n",
    "def get_data(devices, devices_data_all = {}):\n",
    "    brands_all = {}\n",
    "\n",
    "    for device in devices:\n",
    "        print(device)\n",
    "\n",
    "        brands = get_brands(device)\n",
    "        brands_all[device] = brands\n",
    "        \n",
    "        device_cat_candidates = []\n",
    "        print(brands)\n",
    "        for brand in brands:\n",
    "            soup = get_req(brand + \" \" + device)\n",
    "            cards = soup.select(\".sh-dgr__content\")\n",
    "            not_match = 0\n",
    "            first_n_items = 10\n",
    "\n",
    "            for item in cards[:first_n_items]:\n",
    "                try:\n",
    "                    title = item.select('.tAxDx')[0].text\n",
    "                    price = item.select('.a8Pemb')[0].text\n",
    "                    rating = item.select(\".Rsc7Yb\")[0].text\n",
    "                    num_of_reviews = int(item.select(\".NzUzee\")[0].select(\"div > span\")[0].text[3:].replace(\",\", \"\"))\n",
    "                    seller = item.select('.aULzUe.IuHnof')[0].text\n",
    "\n",
    "                    device_cat_candidates.append({\n",
    "                        \"title\": title,\n",
    "                        'brand': brand,\n",
    "                        \"brand2\": title.split(\" \", 1)[0],\n",
    "                        \"price\": price,\n",
    "                        \"rating\": float(rating),\n",
    "                        \"num_of_reviews\": num_of_reviews,\n",
    "                        'seller': seller\n",
    "                    })\n",
    "                except:\n",
    "                    print(\"Error on \", title)\n",
    "\n",
    "        devices_data_all[device] = device_cat_candidates\n",
    "\n",
    "    return devices_data_all"
   ]
  },
  {
   "cell_type": "code",
   "execution_count": null,
   "metadata": {},
   "outputs": [],
   "source": [
    "devices_data_all = get_data(devices)"
   ]
  },
  {
   "cell_type": "markdown",
   "metadata": {},
   "source": [
    "# Save data"
   ]
  },
  {
   "cell_type": "code",
   "execution_count": 20,
   "metadata": {},
   "outputs": [],
   "source": [
    "filename = \"device_data_120522.xlsx\"\n",
    "if filename in os.listdir():\n",
    "    os.remove(filename)\n",
    "\n",
    "\n",
    "with pd.ExcelWriter(filename) as f:\n",
    "    for device in devices_data_all:\n",
    "        df = pd.DataFrame(devices_data_all[device])\n",
    "        df.to_excel(f, sheet_name=f\"{device}\", index = False)\n",
    "\n",
    "with pd.ExcelWriter(filename, mode='a') as f:\n",
    "    for device in append_data1:\n",
    "        df = pd.DataFrame(append_data1[device])\n",
    "        df.to_excel(f, sheet_name=f\"{device}\", index = False)"
   ]
  },
  {
   "cell_type": "code",
   "execution_count": 14,
   "metadata": {},
   "outputs": [
    {
     "data": {
      "text/plain": [
       "[{'title': 'LG 77\" Oledc2 4K UHD Ai ThinQ Smart TV w/ 5-Year Coverage',\n",
       "  'brand': 'Apple',\n",
       "  'price': '$2,987.59',\n",
       "  'rating': 4.9,\n",
       "  'num_of_reviews': 2944,\n",
       "  'seller': 'Truegether - CrazyGoodeal'},\n",
       " {'title': 'LG OLED B1 Series 65” Alexa Built-in 4K Smart TV, 120Hz Refresh Rate, AI-Powered ...',\n",
       "  'brand': 'Apple',\n",
       "  'price': '$1,729.39',\n",
       "  'rating': 4.8,\n",
       "  'num_of_reviews': 3209,\n",
       "  'seller': 'Amazon.com'},\n",
       " {'title': 'LG C2 Series 77-inch 4K Smart OLED Evo TV',\n",
       "  'brand': 'Apple',\n",
       "  'price': '$2,699.99',\n",
       "  'rating': 4.8,\n",
       "  'num_of_reviews': 7420,\n",
       "  'seller': 'Best Buy'},\n",
       " {'title': 'LG BX 65\" 4K Smart OLED TV-OLED65BXPUA',\n",
       "  'brand': 'Apple',\n",
       "  'price': '$1,599.00',\n",
       "  'rating': 4.8,\n",
       "  'num_of_reviews': 3905,\n",
       "  'seller': 'B&H Photo Video Audio'},\n",
       " {'title': 'LG 77\" 4K Smart OLED TV - OLED77CXPUA',\n",
       "  'brand': 'Apple',\n",
       "  'price': '$1,199.00',\n",
       "  'rating': 4.8,\n",
       "  'num_of_reviews': 17816,\n",
       "  'seller': 'kidospace'},\n",
       " {'title': 'LG - 55\" Class A2 Series OLED 4K UHD Smart webOS TV',\n",
       "  'brand': 'Apple',\n",
       "  'price': '$896.99',\n",
       "  'rating': 4.8,\n",
       "  'num_of_reviews': 442,\n",
       "  'seller': 'Walmart'},\n",
       " {'title': 'LG - 77\" Class C1 Series OLED 4K UHD Smart webOS TV',\n",
       "  'brand': 'Apple',\n",
       "  'price': '$2,349.00',\n",
       "  'rating': 4.8,\n",
       "  'num_of_reviews': 26153,\n",
       "  'seller': 'Walmart - MAINSTREET LIQUIDATIONS'},\n",
       " {'title': 'LG 77\" 4K Smart OLED TV - Oled77a1pua',\n",
       "  'brand': 'Apple',\n",
       "  'price': '$2,304.81',\n",
       "  'rating': 4.8,\n",
       "  'num_of_reviews': 5279,\n",
       "  'seller': 'Amazon.com'},\n",
       " {'title': 'Apple TV 4K 64 GB',\n",
       "  'brand': 'Apple',\n",
       "  'price': '$109.99',\n",
       "  'rating': 4.8,\n",
       "  'num_of_reviews': 5755,\n",
       "  'seller': 'Best Buy'},\n",
       " {'title': 'Samsung - UN58TU7000FXZA - 58\" LED Smart TV - 4K UHD',\n",
       "  'brand': 'Apple',\n",
       "  'price': '$429.99',\n",
       "  'rating': 4.5,\n",
       "  'num_of_reviews': 68972,\n",
       "  'seller': 'Best Buy'}]"
      ]
     },
     "execution_count": 14,
     "metadata": {},
     "output_type": "execute_result"
    }
   ],
   "source": [
    "devices_data_all['smart tv']"
   ]
  },
  {
   "cell_type": "code",
   "execution_count": null,
   "metadata": {},
   "outputs": [],
   "source": []
  }
 ],
 "metadata": {
  "kernelspec": {
   "display_name": "Python 3.9.5 ('base')",
   "language": "python",
   "name": "python3"
  },
  "language_info": {
   "codemirror_mode": {
    "name": "ipython",
    "version": 3
   },
   "file_extension": ".py",
   "mimetype": "text/x-python",
   "name": "python",
   "nbconvert_exporter": "python",
   "pygments_lexer": "ipython3",
   "version": "3.9.5"
  },
  "orig_nbformat": 4,
  "vscode": {
   "interpreter": {
    "hash": "d8237f63b9fa724c110a90208de30b1d82767935807cb18be6eb1a56ba7b917d"
   }
  }
 },
 "nbformat": 4,
 "nbformat_minor": 2
}
